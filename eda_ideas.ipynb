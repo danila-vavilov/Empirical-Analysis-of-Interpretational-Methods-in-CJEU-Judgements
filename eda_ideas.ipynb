{
 "cells": [
  {
   "cell_type": "markdown",
   "id": "9d0f165b-611b-42f8-977c-ffb994fe8369",
   "metadata": {},
   "source": [
    "# Some EDA ideas\n",
    "\n"
   ]
  },
  {
   "cell_type": "code",
   "execution_count": 50,
   "id": "b9395201-2735-470c-8b69-a00747f92889",
   "metadata": {},
   "outputs": [],
   "source": [
    "import pandas as pd\n",
    "import seaborn as sns\n",
    "import matplotlib.pyplot as plt\n",
    "sns.set_style('whitegrid')"
   ]
  },
  {
   "cell_type": "code",
   "execution_count": 5,
   "id": "2492d672-8f74-479b-9621-2481aaf18935",
   "metadata": {},
   "outputs": [
    {
     "data": {
      "text/plain": [
       "(773, 14)"
      ]
     },
     "execution_count": 5,
     "metadata": {},
     "output_type": "execute_result"
    }
   ],
   "source": [
    "# Code will always show rows first, then cols. So it is 773 rows in the shape atribute\n",
    "df = pd.read_csv(\"Preliminary database.csv\")\n",
    "df.shape"
   ]
  },
  {
   "cell_type": "code",
   "execution_count": 8,
   "id": "0ad9f2aa-7229-41c3-ba13-50fd52d55482",
   "metadata": {},
   "outputs": [
    {
     "data": {
      "text/plain": [
       "['Unnamed: 0',\n",
       " 'Title',\n",
       " 'CELEX number',\n",
       " 'ECLI identifier',\n",
       " 'Transposed legal act(s)',\n",
       " 'Type of procedure',\n",
       " 'National court',\n",
       " 'Country or organisation from which the request originates',\n",
       " 'Date of document',\n",
       " 'Author',\n",
       " 'Document year',\n",
       " 'Applicant/Appellant',\n",
       " 'Defendant/Other parties to the proceedings',\n",
       " 'Text']"
      ]
     },
     "execution_count": 8,
     "metadata": {},
     "output_type": "execute_result"
    }
   ],
   "source": [
    "# Getting a list representation of the columns, handy for copy-pasting\n",
    "df.columns.tolist()"
   ]
  },
  {
   "cell_type": "code",
   "execution_count": 7,
   "id": "e9419f34-a7e1-43cd-b253-237e83b21698",
   "metadata": {},
   "outputs": [
    {
     "data": {
      "text/plain": [
       "(510, 14)"
      ]
     },
     "execution_count": 7,
     "metadata": {},
     "output_type": "execute_result"
    }
   ],
   "source": [
    "# Getting rid of empty cases, down to 510\n",
    "df.dropna(subset=[\"Text\"],inplace=True)\n",
    "df.shape"
   ]
  },
  {
   "cell_type": "code",
   "execution_count": 54,
   "id": "cac65d30-c966-4806-b334-a30f23e3f4b6",
   "metadata": {},
   "outputs": [
    {
     "data": {
      "text/html": [
       "<div>\n",
       "<style scoped>\n",
       "    .dataframe tbody tr th:only-of-type {\n",
       "        vertical-align: middle;\n",
       "    }\n",
       "\n",
       "    .dataframe tbody tr th {\n",
       "        vertical-align: top;\n",
       "    }\n",
       "\n",
       "    .dataframe thead th {\n",
       "        text-align: right;\n",
       "    }\n",
       "</style>\n",
       "<table border=\"1\" class=\"dataframe\">\n",
       "  <thead>\n",
       "    <tr style=\"text-align: right;\">\n",
       "      <th></th>\n",
       "      <th>1</th>\n",
       "      <th>3</th>\n",
       "      <th>6</th>\n",
       "      <th>7</th>\n",
       "      <th>8</th>\n",
       "    </tr>\n",
       "  </thead>\n",
       "  <tbody>\n",
       "    <tr>\n",
       "      <th>Unnamed: 0</th>\n",
       "      <td>1</td>\n",
       "      <td>3</td>\n",
       "      <td>6</td>\n",
       "      <td>7</td>\n",
       "      <td>8</td>\n",
       "    </tr>\n",
       "    <tr>\n",
       "      <th>Title</th>\n",
       "      <td>Judgment of the Court (Sixth Chamber) of 18 Se...</td>\n",
       "      <td>Judgment of the Court (Fifth Chamber) of 29 Ju...</td>\n",
       "      <td>Judgment of the Court (Fifth Chamber) of 23 Ma...</td>\n",
       "      <td>Judgment of the General Court (Third Chamber) ...</td>\n",
       "      <td>Judgment of the General Court (Fourth Chamber)...</td>\n",
       "    </tr>\n",
       "    <tr>\n",
       "      <th>CELEX number</th>\n",
       "      <td>62018CJ0366</td>\n",
       "      <td>62017CJ0654</td>\n",
       "      <td>62017CJ0720</td>\n",
       "      <td>62017TJ0107</td>\n",
       "      <td>62015TJ0604</td>\n",
       "    </tr>\n",
       "    <tr>\n",
       "      <th>ECLI identifier</th>\n",
       "      <td>ECLI:EU:C:2019:757</td>\n",
       "      <td>ECLI:EU:C:2019:634</td>\n",
       "      <td>ECLI:EU:C:2019:448</td>\n",
       "      <td>ECLI:EU:T:2019:353</td>\n",
       "      <td>ECLI:EU:T:2019:348</td>\n",
       "    </tr>\n",
       "    <tr>\n",
       "      <th>Transposed legal act(s)</th>\n",
       "      <td>NaN</td>\n",
       "      <td>NaN</td>\n",
       "      <td>NaN</td>\n",
       "      <td>NaN</td>\n",
       "      <td>NaN</td>\n",
       "    </tr>\n",
       "    <tr>\n",
       "      <th>Type of procedure</th>\n",
       "      <td>Reference for a preliminary ruling - inadmissi...</td>\n",
       "      <td>Action for annulment, Appeal - inadmissible, A...</td>\n",
       "      <td>Reference for a preliminary ruling</td>\n",
       "      <td>Action for damages - unfounded</td>\n",
       "      <td>Action for annulment - unfounded</td>\n",
       "    </tr>\n",
       "    <tr>\n",
       "      <th>National court</th>\n",
       "      <td>*A9* Juzgado de lo Social de Madrid, Auto de 2...</td>\n",
       "      <td>NaN</td>\n",
       "      <td>*A9* Verwaltungsgerichtshof, Beschluss vom 14/...</td>\n",
       "      <td>NaN</td>\n",
       "      <td>NaN</td>\n",
       "    </tr>\n",
       "    <tr>\n",
       "      <th>Country or organisation from which the request originates</th>\n",
       "      <td>Spain, Spain</td>\n",
       "      <td>Germany, Germany</td>\n",
       "      <td>Austria, Austria</td>\n",
       "      <td>Germany, Germany</td>\n",
       "      <td>Belgium, Belgium</td>\n",
       "    </tr>\n",
       "    <tr>\n",
       "      <th>Date of document</th>\n",
       "      <td>2019-09-18</td>\n",
       "      <td>2019-07-29</td>\n",
       "      <td>2019-05-23</td>\n",
       "      <td>2019-05-23</td>\n",
       "      <td>2019-05-22</td>\n",
       "    </tr>\n",
       "    <tr>\n",
       "      <th>Author</th>\n",
       "      <td>Court of Justice, Hogan</td>\n",
       "      <td>Tanchev, Court of Justice</td>\n",
       "      <td>Bot, Court of Justice</td>\n",
       "      <td>General Court</td>\n",
       "      <td>General Court</td>\n",
       "    </tr>\n",
       "    <tr>\n",
       "      <th>Document year</th>\n",
       "      <td>2018</td>\n",
       "      <td>2017</td>\n",
       "      <td>2017</td>\n",
       "      <td>2017</td>\n",
       "      <td>2015</td>\n",
       "    </tr>\n",
       "    <tr>\n",
       "      <th>Applicant/Appellant</th>\n",
       "      <td>NaN</td>\n",
       "      <td>Person</td>\n",
       "      <td>NaN</td>\n",
       "      <td>Person</td>\n",
       "      <td>Person</td>\n",
       "    </tr>\n",
       "    <tr>\n",
       "      <th>Defendant/Other parties to the proceedings</th>\n",
       "      <td>NaN</td>\n",
       "      <td>Commission, Institutions, Person</td>\n",
       "      <td>NaN</td>\n",
       "      <td>Institutions, European Central Bank</td>\n",
       "      <td>Institutions, Commission</td>\n",
       "    </tr>\n",
       "    <tr>\n",
       "      <th>Text</th>\n",
       "      <td>JUDGMENT OF THE COURT (Sixth Chamber)  Septe...</td>\n",
       "      <td>ARRÊT DE LA COUR (cinquième chambre)  juille...</td>\n",
       "      <td>JUDGMENT OF THE COURT (Fifth Chamber)  May (...</td>\n",
       "      <td>JUDGMENT OF THE GENERAL COURT (Third Chambe...</td>\n",
       "      <td>JUDGMENT OF THE GENERAL COURT (Fourth Chambe...</td>\n",
       "    </tr>\n",
       "    <tr>\n",
       "      <th>date</th>\n",
       "      <td>2019-09-18 00:00:00</td>\n",
       "      <td>2019-07-29 00:00:00</td>\n",
       "      <td>2019-05-23 00:00:00</td>\n",
       "      <td>2019-05-23 00:00:00</td>\n",
       "      <td>2019-05-22 00:00:00</td>\n",
       "    </tr>\n",
       "    <tr>\n",
       "      <th>year</th>\n",
       "      <td>2019</td>\n",
       "      <td>2019</td>\n",
       "      <td>2019</td>\n",
       "      <td>2019</td>\n",
       "      <td>2019</td>\n",
       "    </tr>\n",
       "  </tbody>\n",
       "</table>\n",
       "</div>"
      ],
      "text/plain": [
       "                                                                                                    1  \\\n",
       "Unnamed: 0                                                                                          1   \n",
       "Title                                               Judgment of the Court (Sixth Chamber) of 18 Se...   \n",
       "CELEX number                                                                              62018CJ0366   \n",
       "ECLI identifier                                                                    ECLI:EU:C:2019:757   \n",
       "Transposed legal act(s)                                                                           NaN   \n",
       "Type of procedure                                   Reference for a preliminary ruling - inadmissi...   \n",
       "National court                                      *A9* Juzgado de lo Social de Madrid, Auto de 2...   \n",
       "Country or organisation from which the request ...                                       Spain, Spain   \n",
       "Date of document                                                                           2019-09-18   \n",
       "Author                                                                        Court of Justice, Hogan   \n",
       "Document year                                                                                    2018   \n",
       "Applicant/Appellant                                                                               NaN   \n",
       "Defendant/Other parties to the proceedings                                                        NaN   \n",
       "Text                                                  JUDGMENT OF THE COURT (Sixth Chamber)  Septe...   \n",
       "date                                                                              2019-09-18 00:00:00   \n",
       "year                                                                                             2019   \n",
       "\n",
       "                                                                                                    3  \\\n",
       "Unnamed: 0                                                                                          3   \n",
       "Title                                               Judgment of the Court (Fifth Chamber) of 29 Ju...   \n",
       "CELEX number                                                                              62017CJ0654   \n",
       "ECLI identifier                                                                    ECLI:EU:C:2019:634   \n",
       "Transposed legal act(s)                                                                           NaN   \n",
       "Type of procedure                                   Action for annulment, Appeal - inadmissible, A...   \n",
       "National court                                                                                    NaN   \n",
       "Country or organisation from which the request ...                                   Germany, Germany   \n",
       "Date of document                                                                           2019-07-29   \n",
       "Author                                                                      Tanchev, Court of Justice   \n",
       "Document year                                                                                    2017   \n",
       "Applicant/Appellant                                                                            Person   \n",
       "Defendant/Other parties to the proceedings                           Commission, Institutions, Person   \n",
       "Text                                                  ARRÊT DE LA COUR (cinquième chambre)  juille...   \n",
       "date                                                                              2019-07-29 00:00:00   \n",
       "year                                                                                             2019   \n",
       "\n",
       "                                                                                                    6  \\\n",
       "Unnamed: 0                                                                                          6   \n",
       "Title                                               Judgment of the Court (Fifth Chamber) of 23 Ma...   \n",
       "CELEX number                                                                              62017CJ0720   \n",
       "ECLI identifier                                                                    ECLI:EU:C:2019:448   \n",
       "Transposed legal act(s)                                                                           NaN   \n",
       "Type of procedure                                                  Reference for a preliminary ruling   \n",
       "National court                                      *A9* Verwaltungsgerichtshof, Beschluss vom 14/...   \n",
       "Country or organisation from which the request ...                                   Austria, Austria   \n",
       "Date of document                                                                           2019-05-23   \n",
       "Author                                                                          Bot, Court of Justice   \n",
       "Document year                                                                                    2017   \n",
       "Applicant/Appellant                                                                               NaN   \n",
       "Defendant/Other parties to the proceedings                                                        NaN   \n",
       "Text                                                  JUDGMENT OF THE COURT (Fifth Chamber)  May (...   \n",
       "date                                                                              2019-05-23 00:00:00   \n",
       "year                                                                                             2019   \n",
       "\n",
       "                                                                                                    7  \\\n",
       "Unnamed: 0                                                                                          7   \n",
       "Title                                               Judgment of the General Court (Third Chamber) ...   \n",
       "CELEX number                                                                              62017TJ0107   \n",
       "ECLI identifier                                                                    ECLI:EU:T:2019:353   \n",
       "Transposed legal act(s)                                                                           NaN   \n",
       "Type of procedure                                                      Action for damages - unfounded   \n",
       "National court                                                                                    NaN   \n",
       "Country or organisation from which the request ...                                   Germany, Germany   \n",
       "Date of document                                                                           2019-05-23   \n",
       "Author                                                                                  General Court   \n",
       "Document year                                                                                    2017   \n",
       "Applicant/Appellant                                                                            Person   \n",
       "Defendant/Other parties to the proceedings                        Institutions, European Central Bank   \n",
       "Text                                                   JUDGMENT OF THE GENERAL COURT (Third Chambe...   \n",
       "date                                                                              2019-05-23 00:00:00   \n",
       "year                                                                                             2019   \n",
       "\n",
       "                                                                                                    8  \n",
       "Unnamed: 0                                                                                          8  \n",
       "Title                                               Judgment of the General Court (Fourth Chamber)...  \n",
       "CELEX number                                                                              62015TJ0604  \n",
       "ECLI identifier                                                                    ECLI:EU:T:2019:348  \n",
       "Transposed legal act(s)                                                                           NaN  \n",
       "Type of procedure                                                    Action for annulment - unfounded  \n",
       "National court                                                                                    NaN  \n",
       "Country or organisation from which the request ...                                   Belgium, Belgium  \n",
       "Date of document                                                                           2019-05-22  \n",
       "Author                                                                                  General Court  \n",
       "Document year                                                                                    2015  \n",
       "Applicant/Appellant                                                                            Person  \n",
       "Defendant/Other parties to the proceedings                                   Institutions, Commission  \n",
       "Text                                                  JUDGMENT OF THE GENERAL COURT (Fourth Chambe...  \n",
       "date                                                                              2019-05-22 00:00:00  \n",
       "year                                                                                             2019  "
      ]
     },
     "execution_count": 54,
     "metadata": {},
     "output_type": "execute_result"
    }
   ],
   "source": [
    "df.head().T"
   ]
  },
  {
   "cell_type": "code",
   "execution_count": 48,
   "id": "570362d7-43d9-4ced-bd5b-1eb1efb3d40d",
   "metadata": {},
   "outputs": [
    {
     "name": "stdout",
     "output_type": "stream",
     "text": [
      "<class 'numpy.int64'> <class 'str'>\n"
     ]
    }
   ],
   "source": [
    "# Here we can see that the cols are not proper dates, so it is necessary to put an actionable date and year below\n",
    "print(type(df['Document year'][8]),\n",
    "      type(df['Date of document'][8]))"
   ]
  },
  {
   "cell_type": "code",
   "execution_count": 49,
   "id": "c545ec53-68b2-46e3-be5b-758954cdf432",
   "metadata": {},
   "outputs": [
    {
     "name": "stdout",
     "output_type": "stream",
     "text": [
      "<class 'pandas._libs.tslibs.timestamps.Timestamp'> <class 'numpy.int64'>\n"
     ]
    }
   ],
   "source": [
    "df['date'] = pd.to_datetime(df['Date of document'])\n",
    "df['year'] = pd.DatetimeIndex(df['date']).year\n",
    "print(type(df['date'][8]),\n",
    "      type(df['year'][8]))"
   ]
  },
  {
   "cell_type": "code",
   "execution_count": 11,
   "id": "7dec2505-37d5-4aeb-8e47-0c70eee1ff64",
   "metadata": {},
   "outputs": [
    {
     "data": {
      "text/plain": [
       "Reference for a preliminary ruling                                                                              131\n",
       "Action for annulment - unfounded                                                                                 62\n",
       "Action for annulment - successful                                                                                21\n",
       "Action for annulment - successful, Action for annulment - unfounded                                              11\n",
       "Action for annulment, Appeal - unfounded                                                                         11\n",
       "                                                                                                               ... \n",
       "Appeal - successful, Action for damages, Staff cases                                                              1\n",
       "Appeal against penalty, Appeal - unfounded, Action for annulment, Appeal - inadmissible                           1\n",
       "Action for damages - unfounded, Action for damages - successful, Action for damages - inadmissible                1\n",
       "Action for annulment, Appeal - inadmissible, Appeal - unfounded, Appeal - successful, Appeal against penalty      1\n",
       "Action for annulment - inadmissible, Action for annulment - successful, Action for annulment - unfounded          1\n",
       "Name: Type of procedure, Length: 145, dtype: int64"
      ]
     },
     "execution_count": 11,
     "metadata": {},
     "output_type": "execute_result"
    }
   ],
   "source": [
    "# This might need to be regimented, it has too many categories, we want say 3 succesful, unsuccesful, neutral\n",
    "df['Type of procedure'].value_counts()"
   ]
  },
  {
   "cell_type": "code",
   "execution_count": 14,
   "id": "9d586c16-a834-46de-9c56-fa0dd5c8a0b0",
   "metadata": {},
   "outputs": [
    {
     "data": {
      "text/plain": [
       "Third countries                                             64\n",
       "Germany, Germany                                            54\n",
       "Italy, Italy                                                38\n",
       "France, France                                              35\n",
       "Spain, Spain                                                33\n",
       "                                                            ..\n",
       "Luxembourg, Italy, Italy, Luxembourg                         1\n",
       "Belgium, Italy, Italy, Belgium                               1\n",
       "United Kingdom, Netherlands, Netherlands, United Kingdom     1\n",
       "Luxembourg, Third countries, Luxembourg                      1\n",
       "Luxembourg                                                   1\n",
       "Name: Country or organisation from which the request originates, Length: 74, dtype: int64"
      ]
     },
     "execution_count": 14,
     "metadata": {},
     "output_type": "execute_result"
    }
   ],
   "source": [
    "# For cases like \"Belgium, Italy\" we need to have a list instead of a string, and then use explode\n",
    "# Something weird in how countires are named twice, this needs to be corrected\n",
    "df['Country or organisation from which the request originates'].value_counts()"
   ]
  },
  {
   "cell_type": "code",
   "execution_count": 53,
   "id": "05ed7f6a-596a-49dc-8cb8-c0536fa9f7f4",
   "metadata": {},
   "outputs": [
    {
     "data": {
      "text/plain": [
       "([0, 1, 2, 3, 4, 5, 6, 7, 8, 9],\n",
       " [Text(0, 0, ''),\n",
       "  Text(0, 0, ''),\n",
       "  Text(0, 0, ''),\n",
       "  Text(0, 0, ''),\n",
       "  Text(0, 0, ''),\n",
       "  Text(0, 0, ''),\n",
       "  Text(0, 0, ''),\n",
       "  Text(0, 0, ''),\n",
       "  Text(0, 0, ''),\n",
       "  Text(0, 0, '')])"
      ]
     },
     "execution_count": 53,
     "metadata": {},
     "output_type": "execute_result"
    },
    {
     "data": {
      "image/png": "[encoded data removed]",
      "text/plain": [
       "<Figure size 432x288 with 1 Axes>"
      ]
     },
     "metadata": {},
     "output_type": "display_data"
    }
   ],
   "source": [
    "# a start could be cases by country of origin\n",
    "sns.set(palette=\"Greens_d\")\n",
    "plt.bar(df['Country or organisation from which the request originates'].value_counts().nlargest(10).index,\n",
    "         df['Country or organisation from which the request originates'].value_counts().nlargest(10).values)\n",
    "plt.xticks(rotation=90)\n",
    "#plt.xticks(labels=[df['Country or organisation from which the request originates'].value_counts().nlargest(10).index.tolist()],rotation=90)\n"
   ]
  },
  {
   "cell_type": "code",
   "execution_count": 52,
   "id": "55f4ee40-128d-43cf-938a-83cbec287e7e",
   "metadata": {},
   "outputs": [
    {
     "name": "stderr",
     "output_type": "stream",
     "text": [
      "/home/gmascode/miniconda3/envs/gus_1/lib/python3.8/site-packages/seaborn/_decorators.py:36: FutureWarning: Pass the following variable as a keyword arg: x. From version 0.12, the only valid positional argument will be `data`, and passing other arguments without an explicit keyword will result in an error or misinterpretation.\n",
      "  warnings.warn(\n"
     ]
    },
    {
     "data": {
      "text/plain": [
       "<AxesSubplot:xlabel='year', ylabel='count'>"
      ]
     },
     "execution_count": 52,
     "metadata": {},
     "output_type": "execute_result"
    },
    {
     "data": {
      "image/png": "[encoded data removed]",
      "text/plain": [
       "<Figure size 432x288 with 1 Axes>"
      ]
     },
     "metadata": {},
     "output_type": "display_data"
    }
   ],
   "source": [
    "# or by year\n",
    "sns.countplot(df['year'], palette=\"Greens_d\")"
   ]
  },
  {
   "cell_type": "markdown",
   "id": "5a2414a5-1c4c-4136-8979-ce6bd85a04ed",
   "metadata": {},
   "source": [
    "# suggestions\n",
    "\n",
    "Lets try to do numbers for\n",
    "* succesful / unsuccesful cases, \n",
    "* cases by interpretation technique, \n",
    "* cases by country of origin, \n",
    "* cases by year\n",
    "and all the above crosscutting each other (ie. succesful/unsuccesful by country, succesful unsuccesful by year)\n",
    "\n",
    "reporting the data, liking it to legal doctrine, and making the code and database open should be enough for a thesis\n"
   ]
  },
  {
   "cell_type": "markdown",
   "id": "c5646b05-771b-40c0-a683-cc2a7a36e9fd",
   "metadata": {},
   "source": [
    "# work in progress..."
   ]
  },
  {
   "cell_type": "code",
   "execution_count": 76,
   "id": "a6199357-0df3-4a00-a723-9e9390f8f28c",
   "metadata": {},
   "outputs": [
    {
     "data": {
      "text/plain": [
       "(214, 16)"
      ]
     },
     "execution_count": 76,
     "metadata": {},
     "output_type": "execute_result"
    }
   ],
   "source": [
    "# the idea is to filter the df for only the 3 largest types of procedures. Uses value counts index to create a list,\n",
    "# and then passes the list to the df boolean indexing\n",
    "three_main = df['Type of procedure'].value_counts().nlargest(3).index\n",
    "three_main = list(three_main)\n",
    "df2 = df[df['Type of procedure'].isin(three_main)]\n",
    "df2.shape"
   ]
  },
  {
   "cell_type": "code",
   "execution_count": 77,
   "id": "eceeb738-837a-49ed-a54c-1bc602c1314b",
   "metadata": {},
   "outputs": [],
   "source": [
    "## have to find how to groupby and plot"
   ]
  },
  {
   "cell_type": "code",
   "execution_count": 89,
   "id": "3c53072f-2f16-49b5-97e6-5f205ea5d83b",
   "metadata": {},
   "outputs": [
    {
     "data": {
      "text/html": [
       "<div>\n",
       "<style scoped>\n",
       "    .dataframe tbody tr th:only-of-type {\n",
       "        vertical-align: middle;\n",
       "    }\n",
       "\n",
       "    .dataframe tbody tr th {\n",
       "        vertical-align: top;\n",
       "    }\n",
       "\n",
       "    .dataframe thead th {\n",
       "        text-align: right;\n",
       "    }\n",
       "</style>\n",
       "<table border=\"1\" class=\"dataframe\">\n",
       "  <thead>\n",
       "    <tr style=\"text-align: right;\">\n",
       "      <th>Type of procedure</th>\n",
       "      <th>Action for annulment - successful</th>\n",
       "      <th>Action for annulment - unfounded</th>\n",
       "      <th>Reference for a preliminary ruling</th>\n",
       "    </tr>\n",
       "    <tr>\n",
       "      <th>year</th>\n",
       "      <th></th>\n",
       "      <th></th>\n",
       "      <th></th>\n",
       "    </tr>\n",
       "  </thead>\n",
       "  <tbody>\n",
       "    <tr>\n",
       "      <th>2010</th>\n",
       "      <td>1</td>\n",
       "      <td>1</td>\n",
       "      <td>5</td>\n",
       "    </tr>\n",
       "    <tr>\n",
       "      <th>2011</th>\n",
       "      <td>1</td>\n",
       "      <td>2</td>\n",
       "      <td>8</td>\n",
       "    </tr>\n",
       "    <tr>\n",
       "      <th>2012</th>\n",
       "      <td>1</td>\n",
       "      <td>6</td>\n",
       "      <td>14</td>\n",
       "    </tr>\n",
       "    <tr>\n",
       "      <th>2013</th>\n",
       "      <td>4</td>\n",
       "      <td>3</td>\n",
       "      <td>18</td>\n",
       "    </tr>\n",
       "    <tr>\n",
       "      <th>2014</th>\n",
       "      <td>0</td>\n",
       "      <td>13</td>\n",
       "      <td>32</td>\n",
       "    </tr>\n",
       "    <tr>\n",
       "      <th>2015</th>\n",
       "      <td>4</td>\n",
       "      <td>15</td>\n",
       "      <td>13</td>\n",
       "    </tr>\n",
       "    <tr>\n",
       "      <th>2016</th>\n",
       "      <td>2</td>\n",
       "      <td>5</td>\n",
       "      <td>15</td>\n",
       "    </tr>\n",
       "    <tr>\n",
       "      <th>2017</th>\n",
       "      <td>2</td>\n",
       "      <td>11</td>\n",
       "      <td>12</td>\n",
       "    </tr>\n",
       "    <tr>\n",
       "      <th>2018</th>\n",
       "      <td>3</td>\n",
       "      <td>4</td>\n",
       "      <td>9</td>\n",
       "    </tr>\n",
       "    <tr>\n",
       "      <th>2019</th>\n",
       "      <td>3</td>\n",
       "      <td>2</td>\n",
       "      <td>5</td>\n",
       "    </tr>\n",
       "  </tbody>\n",
       "</table>\n",
       "</div>"
      ],
      "text/plain": [
       "Type of procedure  Action for annulment - successful  \\\n",
       "year                                                   \n",
       "2010                                               1   \n",
       "2011                                               1   \n",
       "2012                                               1   \n",
       "2013                                               4   \n",
       "2014                                               0   \n",
       "2015                                               4   \n",
       "2016                                               2   \n",
       "2017                                               2   \n",
       "2018                                               3   \n",
       "2019                                               3   \n",
       "\n",
       "Type of procedure  Action for annulment - unfounded  \\\n",
       "year                                                  \n",
       "2010                                              1   \n",
       "2011                                              2   \n",
       "2012                                              6   \n",
       "2013                                              3   \n",
       "2014                                             13   \n",
       "2015                                             15   \n",
       "2016                                              5   \n",
       "2017                                             11   \n",
       "2018                                              4   \n",
       "2019                                              2   \n",
       "\n",
       "Type of procedure  Reference for a preliminary ruling  \n",
       "year                                                   \n",
       "2010                                                5  \n",
       "2011                                                8  \n",
       "2012                                               14  \n",
       "2013                                               18  \n",
       "2014                                               32  \n",
       "2015                                               13  \n",
       "2016                                               15  \n",
       "2017                                               12  \n",
       "2018                                                9  \n",
       "2019                                                5  "
      ]
     },
     "execution_count": 89,
     "metadata": {},
     "output_type": "execute_result"
    }
   ],
   "source": [
    "dfxtab = pd.crosstab(index=df2['year'],columns=df2['Type of procedure'])\n",
    "dfxtab"
   ]
  },
  {
   "cell_type": "code",
   "execution_count": null,
   "id": "49ef8474-8a23-4c5e-b359-008876204430",
   "metadata": {},
   "outputs": [],
   "source": []
  },
  {
   "cell_type": "markdown",
   "id": "d0cb94e4-d3ec-4083-94e0-7e9b5912aa27",
   "metadata": {},
   "source": [
    "# Cleaining part 1\n",
    "here is some effort to sort the country of origin, note that it fails becaue of leading whitespace in the list"
   ]
  },
  {
   "cell_type": "code",
   "execution_count": 103,
   "id": "9bc24b8c-5582-4df2-b897-d218863d48c3",
   "metadata": {},
   "outputs": [],
   "source": [
    "def country_set1(a_string):\n",
    "    try:\n",
    "        a_list = a_string.split(\",\")\n",
    "        return list(set(a_list))\n",
    "    except:\n",
    "        return \"not possible\"\n",
    "    \n",
    "    "
   ]
  },
  {
   "cell_type": "code",
   "execution_count": 101,
   "id": "ee057a77-dee8-4390-a3a1-20bade4e6935",
   "metadata": {},
   "outputs": [
    {
     "data": {
      "text/plain": [
       "6                    [ Austria, Austria]\n",
       "8                    [Belgium,  Belgium]\n",
       "11                   [ Austria, Austria]\n",
       "13                   [ Austria, Austria]\n",
       "17     [ Italy,  Third countries, Italy]\n",
       "                     ...                \n",
       "754                  [Germany,  Germany]\n",
       "758                    [Third countries]\n",
       "764                      [ Italy, Italy]\n",
       "769                    [ Greece, Greece]\n",
       "770                      [ Italy, Italy]\n",
       "Name: Country or organisation from which the request originates, Length: 214, dtype: object"
      ]
     },
     "execution_count": 101,
     "metadata": {},
     "output_type": "execute_result"
    }
   ],
   "source": [
    "df2['Country or organisation from which the request originates'].apply(country_set1)"
   ]
  },
  {
   "cell_type": "code",
   "execution_count": 104,
   "id": "900c12dd-07d0-410d-bb61-8e31d0d6cb8b",
   "metadata": {},
   "outputs": [],
   "source": [
    "\n",
    "def country_set2(a_string):\n",
    "    try:\n",
    "        a_list = a_string.split(\",\")\n",
    "        b_list = [x.strip() for x in a_list]\n",
    "        return list(set(b_list))\n",
    "    except:\n",
    "        return \"not possible\"\n",
    "    "
   ]
  },
  {
   "cell_type": "markdown",
   "id": "644c0dd0-3624-4985-8740-b63b995455fd",
   "metadata": {},
   "source": [
    "Now it works!"
   ]
  },
  {
   "cell_type": "code",
   "execution_count": 110,
   "id": "dc85f186-784b-4bc0-b82c-100b259b0606",
   "metadata": {},
   "outputs": [
    {
     "data": {
      "text/plain": [
       "6                     [Austria]\n",
       "8                     [Belgium]\n",
       "11                    [Austria]\n",
       "13                    [Austria]\n",
       "17     [Third countries, Italy]\n",
       "                 ...           \n",
       "754                   [Germany]\n",
       "758           [Third countries]\n",
       "764                     [Italy]\n",
       "769                    [Greece]\n",
       "770                     [Italy]\n",
       "Name: Country or organisation from which the request originates, Length: 214, dtype: object"
      ]
     },
     "execution_count": 110,
     "metadata": {},
     "output_type": "execute_result"
    }
   ],
   "source": [
    "df2['Country or organisation from which the request originates'].apply(country_set2)"
   ]
  },
  {
   "cell_type": "code",
   "execution_count": null,
   "id": "c21d097a-fee0-4d53-a8d3-149ee5ba1727",
   "metadata": {},
   "outputs": [],
   "source": [
    "# from here on it is a bit messy"
   ]
  },
  {
   "cell_type": "code",
   "execution_count": 108,
   "id": "496aaed6-8772-4659-b17a-28501399ca55",
   "metadata": {},
   "outputs": [
    {
     "name": "stderr",
     "output_type": "stream",
     "text": [
      "/home/gmascode/miniconda3/envs/gus_1/lib/python3.8/site-packages/pandas/core/frame.py:3607: SettingWithCopyWarning: \n",
      "A value is trying to be set on a copy of a slice from a DataFrame.\n",
      "Try using .loc[row_indexer,col_indexer] = value instead\n",
      "\n",
      "See the caveats in the documentation: https://pandas.pydata.org/pandas-docs/stable/user_guide/indexing.html#returning-a-view-versus-a-copy\n",
      "  self._set_item(key, value)\n"
     ]
    }
   ],
   "source": [
    "df2['origin'] = df2['Country or organisation from which the request originates'].apply(country_set2)"
   ]
  },
  {
   "cell_type": "code",
   "execution_count": 109,
   "id": "457e9847-b950-4892-b385-1cdabc7b2dde",
   "metadata": {},
   "outputs": [
    {
     "ename": "TypeError",
     "evalue": "unhashable type: 'list'",
     "output_type": "error",
     "traceback": [
      "\u001b[0;31m---------------------------------------------------------------------------\u001b[0m",
      "\u001b[0;31mTypeError\u001b[0m                                 Traceback (most recent call last)",
      "\u001b[0;32mpandas/_libs/hashtable_class_helper.pxi\u001b[0m in \u001b[0;36mpandas._libs.hashtable.PyObjectHashTable.map_locations\u001b[0;34m()\u001b[0m\n",
      "\u001b[0;31mTypeError\u001b[0m: unhashable type: 'list'"
     ]
    },
    {
     "name": "stderr",
     "output_type": "stream",
     "text": [
      "Exception ignored in: 'pandas._libs.index.IndexEngine._call_map_locations'\n",
      "Traceback (most recent call last):\n",
      "  File \"pandas/_libs/hashtable_class_helper.pxi\", line 5231, in pandas._libs.hashtable.PyObjectHashTable.map_locations\n",
      "TypeError: unhashable type: 'list'\n"
     ]
    },
    {
     "data": {
      "text/plain": [
       "[Germany]                                       26\n",
       "[Third countries]                               21\n",
       "[Italy]                                         19\n",
       "[Spain]                                         17\n",
       "[Austria]                                       14\n",
       "[France]                                        13\n",
       "[Netherlands]                                   13\n",
       "[Belgium]                                       12\n",
       "[United Kingdom]                                 9\n",
       "[Hungary]                                        8\n",
       "[Czechia]                                        7\n",
       "[Poland]                                         6\n",
       "[Slovakia]                                       5\n",
       "[Latvia]                                         4\n",
       "[Bulgaria]                                       3\n",
       "[Lithuania]                                      3\n",
       "[Denmark]                                        3\n",
       "[Estonia]                                        3\n",
       "[Ireland]                                        3\n",
       "[Greece]                                         2\n",
       "[Portugal]                                       2\n",
       "[Finland]                                        2\n",
       "not possible                                     2\n",
       "[Third countries, Germany]                       2\n",
       "[Sweden]                                         2\n",
       "[Luxembourg]                                     2\n",
       "[Slovenia]                                       1\n",
       "[Romania, Hungary]                               1\n",
       "[Luxembourg, Belgium, France, Spain, Poland]     1\n",
       "[Belgium, Third countries]                       1\n",
       "[United Kingdom, Netherlands]                    1\n",
       "[Third countries, Italy]                         1\n",
       "[Third countries, United Kingdom]                1\n",
       "[Belgium, Netherlands]                           1\n",
       "[Iran, XX]                                       1\n",
       "[Ireland, United Kingdom]                        1\n",
       "[Malta]                                          1\n",
       "Name: origin, dtype: int64"
      ]
     },
     "execution_count": 109,
     "metadata": {},
     "output_type": "execute_result"
    }
   ],
   "source": [
    "#now better but I am doing something illegal here\n",
    "df2['origin'].value_counts()"
   ]
  },
  {
   "cell_type": "code",
   "execution_count": 113,
   "id": "7ed0214f-93b0-4cfc-b7da-e8a66086f683",
   "metadata": {},
   "outputs": [
    {
     "name": "stdout",
     "output_type": "stream",
     "text": [
      "(214, 17) (228, 17)\n"
     ]
    }
   ],
   "source": [
    "# Explode unstacks problem cases like [Ireland, United Kingdom]\n",
    "# This results in a larger df\n",
    "df3 = df2.explode('origin')\n",
    "print(df2.shape, df3.shape)"
   ]
  },
  {
   "cell_type": "code",
   "execution_count": 114,
   "id": "f686b66f-2686-4367-944c-dc90d1456d59",
   "metadata": {},
   "outputs": [
    {
     "data": {
      "text/plain": [
       "Germany            28\n",
       "Third countries    26\n",
       "Italy              20\n",
       "Spain              18\n",
       "Netherlands        15\n",
       "Belgium            15\n",
       "Austria            14\n",
       "France             14\n",
       "United Kingdom     12\n",
       "Hungary             9\n",
       "Poland              7\n",
       "Czechia             7\n",
       "Slovakia            5\n",
       "Latvia              4\n",
       "Ireland             4\n",
       "Denmark             3\n",
       "Estonia             3\n",
       "Lithuania           3\n",
       "Luxembourg          3\n",
       "Bulgaria            3\n",
       "not possible        2\n",
       "Sweden              2\n",
       "Portugal            2\n",
       "Greece              2\n",
       "Finland             2\n",
       "Slovenia            1\n",
       "Romania             1\n",
       "Iran                1\n",
       "XX                  1\n",
       "Malta               1\n",
       "Name: origin, dtype: int64"
      ]
     },
     "execution_count": 114,
     "metadata": {},
     "output_type": "execute_result"
    }
   ],
   "source": [
    "# but also better value_counts\n",
    "df3.origin.value_counts()"
   ]
  },
  {
   "cell_type": "code",
   "execution_count": null,
   "id": "79c2bd9d-7b74-4887-b3de-e10cb4fe0901",
   "metadata": {},
   "outputs": [],
   "source": []
  }
 ],
 "metadata": {
  "kernelspec": {
   "display_name": "Python 3 (ipykernel)",
   "language": "python",
   "name": "python3"
  },
  "language_info": {
   "codemirror_mode": {
    "name": "ipython",
    "version": 3
   },
   "file_extension": ".py",
   "mimetype": "text/x-python",
   "name": "python",
   "nbconvert_exporter": "python",
   "pygments_lexer": "ipython3",
   "version": "3.8.10"
  }
 },
 "nbformat": 4,
 "nbformat_minor": 5
}
