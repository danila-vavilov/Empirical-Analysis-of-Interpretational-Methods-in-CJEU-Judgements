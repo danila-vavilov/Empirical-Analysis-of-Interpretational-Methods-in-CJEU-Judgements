{
 "cells": [
  {
   "cell_type": "markdown",
   "id": "ace29c7c-383d-4f7a-9cc7-4f28d5f05e1a",
   "metadata": {
    "tags": []
   },
   "source": [
    "# Second attempt at data-cleaning"
   ]
  },
  {
   "cell_type": "code",
   "execution_count": 135,
   "id": "d71fce12-42dc-4c8f-81ed-9b55ff159572",
   "metadata": {},
   "outputs": [],
   "source": [
    "import pandas as pd\n",
    "import seaborn as sns\n",
    "import matplotlib.pyplot as plt\n",
    "sns.set_style('whitegrid')\n",
    "import re"
   ]
  },
  {
   "cell_type": "markdown",
   "id": "e409a374-236e-43ab-baeb-6a4221d0faec",
   "metadata": {},
   "source": [
    "> warning, note I changed the name of the file, code wont work if the names do not match"
   ]
  },
  {
   "cell_type": "code",
   "execution_count": 136,
   "id": "e3807caf-0f51-4886-8d1b-496fbc61e912",
   "metadata": {},
   "outputs": [
    {
     "data": {
      "text/plain": [
       "(510, 14)"
      ]
     },
     "execution_count": 136,
     "metadata": {},
     "output_type": "execute_result"
    }
   ],
   "source": [
    "df = pd.read_csv(\"Preliminary_database.csv\")\n",
    "df.dropna(subset=[\"Text\"],inplace=True)\n",
    "df.shape"
   ]
  },
  {
   "cell_type": "code",
   "execution_count": 137,
   "id": "73b5238d-5e6d-4251-96df-7116cb16c7d3",
   "metadata": {},
   "outputs": [
    {
     "data": {
      "text/plain": [
       "['Unnamed: 0',\n",
       " 'Title',\n",
       " 'CELEX number',\n",
       " 'ECLI identifier',\n",
       " 'Transposed legal act(s)',\n",
       " 'Type of procedure',\n",
       " 'National court',\n",
       " 'Country or organisation from which the request originates',\n",
       " 'Date of document',\n",
       " 'Author',\n",
       " 'Document year',\n",
       " 'Applicant/Appellant',\n",
       " 'Defendant/Other parties to the proceedings',\n",
       " 'Text']"
      ]
     },
     "execution_count": 137,
     "metadata": {},
     "output_type": "execute_result"
    }
   ],
   "source": [
    "df.columns.tolist()"
   ]
  },
  {
   "cell_type": "code",
   "execution_count": 138,
   "id": "2f7b7d50-7e5d-49e2-931f-f4f4ea40b3a5",
   "metadata": {},
   "outputs": [
    {
     "name": "stdout",
     "output_type": "stream",
     "text": [
      "<class 'pandas._libs.tslibs.timestamps.Timestamp'> <class 'numpy.int64'>\n"
     ]
    }
   ],
   "source": [
    "df['date'] = pd.to_datetime(df['Date of document'])\n",
    "df['year'] = pd.DatetimeIndex(df['date']).year\n",
    "print(type(df['date'][8]),\n",
    "      type(df['year'][8]))"
   ]
  },
  {
   "cell_type": "code",
   "execution_count": 139,
   "id": "1d59e348-19a7-40d7-a7c3-291ce3107fab",
   "metadata": {},
   "outputs": [],
   "source": [
    "df.drop(['Date of document','Document year'], axis=1, inplace=True)"
   ]
  },
  {
   "cell_type": "markdown",
   "id": "98a25448-9caa-47de-9884-fc9115b083d7",
   "metadata": {},
   "source": [
    "## Renaming long names as a quality of life fix"
   ]
  },
  {
   "cell_type": "code",
   "execution_count": 140,
   "id": "5aac8281-9059-4d7e-870d-c6c2615ad520",
   "metadata": {},
   "outputs": [],
   "source": [
    "df.rename({'Country or organisation from which the request originates':'origin',\n",
    "           'Defendant/Other parties to the proceedings':'parties'},\n",
    "          axis=1,inplace=True)"
   ]
  },
  {
   "cell_type": "code",
   "execution_count": 141,
   "id": "7b5d0a3e-e274-4671-adb0-af5485a97074",
   "metadata": {},
   "outputs": [],
   "source": [
    "df.drop(['Unnamed: 0'], axis=1, inplace=True)"
   ]
  },
  {
   "cell_type": "markdown",
   "id": "727baee9-1451-467e-8439-3b738af72b04",
   "metadata": {},
   "source": [
    "## Dropping useless columns as a quality of life fix"
   ]
  },
  {
   "cell_type": "code",
   "execution_count": 142,
   "id": "d97d8d5f-b7c6-4440-985d-e4672cda939c",
   "metadata": {},
   "outputs": [],
   "source": [
    "# this is pure nan, just delete\n",
    "df['Transposed legal act(s)'].head()\n",
    "df.drop('Transposed legal act(s)', axis=1, inplace=True)"
   ]
  },
  {
   "cell_type": "code",
   "execution_count": 143,
   "id": "db59ec8b-cda5-462c-96c0-a3f04e97ef99",
   "metadata": {},
   "outputs": [],
   "source": [
    "# This is not useful info. I suggest drop or ignore\n",
    "df['National court'].value_counts()\n",
    "df.drop('National court', axis=1, inplace=True)"
   ]
  },
  {
   "cell_type": "markdown",
   "id": "9e8faad9-92c1-4cbc-a7b9-401089e70359",
   "metadata": {},
   "source": [
    "## This is going to be a nightmare to standarize ->"
   ]
  },
  {
   "cell_type": "code",
   "execution_count": 144,
   "id": "a5c74d56-a3ad-47c4-9a1e-e9acabdb8255",
   "metadata": {},
   "outputs": [
    {
     "data": {
      "text/plain": [
       "Reference for a preliminary ruling                                                                              131\n",
       "Action for annulment - unfounded                                                                                 62\n",
       "Action for annulment - successful                                                                                21\n",
       "Action for annulment - successful, Action for annulment - unfounded                                              11\n",
       "Action for annulment, Appeal - unfounded                                                                         11\n",
       "                                                                                                               ... \n",
       "Appeal - successful, Action for damages, Staff cases                                                              1\n",
       "Appeal against penalty, Appeal - unfounded, Action for annulment, Appeal - inadmissible                           1\n",
       "Action for damages - unfounded, Action for damages - successful, Action for damages - inadmissible                1\n",
       "Action for annulment, Appeal - inadmissible, Appeal - unfounded, Appeal - successful, Appeal against penalty      1\n",
       "Action for annulment - inadmissible, Action for annulment - successful, Action for annulment - unfounded          1\n",
       "Name: Type of procedure, Length: 145, dtype: int64"
      ]
     },
     "execution_count": 144,
     "metadata": {},
     "output_type": "execute_result"
    }
   ],
   "source": [
    "df['Type of procedure'].value_counts()\n"
   ]
  },
  {
   "cell_type": "code",
   "execution_count": 145,
   "id": "2eea5594-61d2-4a83-9eac-2de1b747c184",
   "metadata": {},
   "outputs": [
    {
     "data": {
      "text/plain": [
       "Third countries                                             64\n",
       "Germany, Germany                                            54\n",
       "Italy, Italy                                                38\n",
       "France, France                                              35\n",
       "Spain, Spain                                                33\n",
       "                                                            ..\n",
       "Luxembourg, Italy, Italy, Luxembourg                         1\n",
       "Belgium, Italy, Italy, Belgium                               1\n",
       "United Kingdom, Netherlands, Netherlands, United Kingdom     1\n",
       "Luxembourg, Third countries, Luxembourg                      1\n",
       "Luxembourg                                                   1\n",
       "Name: origin, Length: 74, dtype: int64"
      ]
     },
     "execution_count": 145,
     "metadata": {},
     "output_type": "execute_result"
    }
   ],
   "source": [
    "df['origin'].value_counts()"
   ]
  },
  {
   "cell_type": "markdown",
   "id": "ffe54c11-439b-491f-b273-d78f89bb08e9",
   "metadata": {},
   "source": [
    "------\n",
    "\n",
    "## Condensing author info -- this part works"
   ]
  },
  {
   "cell_type": "code",
   "execution_count": 146,
   "id": "995b4daa-1f47-4f32-b2b2-8997c6a9daee",
   "metadata": {},
   "outputs": [
    {
     "data": {
      "text/plain": [
       "General Court                               216\n",
       "Civil Service Tribunal                       31\n",
       "Bot, Court of Justice                        21\n",
       "Court of Justice, Bot                        21\n",
       "Court of Justice, Kokott                     20\n",
       "Wathelet, Court of Justice                   16\n",
       "Sharpston, Court of Justice                  16\n",
       "Court of Justice, Mengozzi                   16\n",
       "Cruz Villalón, Court of Justice              15\n",
       "Court of Justice, Wahl                       13\n",
       "Court of Justice, Jääskinen                  12\n",
       "Jääskinen, Court of Justice                  12\n",
       "Kokott, Court of Justice                     12\n",
       "Court of Justice, Sharpston                  11\n",
       "Court of Justice, Wathelet                    8\n",
       "Mengozzi, Court of Justice                    7\n",
       "Wahl, Court of Justice                        7\n",
       "Court of Justice, Cruz Villalón               7\n",
       "Court of Justice, Szpunar                     6\n",
       "Court of Justice, Tanchev                     6\n",
       "Szpunar, Court of Justice                     5\n",
       "Court of Justice, Saugmandsgaard Øe           5\n",
       "Court of Justice                              4\n",
       "Trstenjak, Court of Justice                   4\n",
       "Court of Justice, Bobek                       3\n",
       "Court of Justice, Trstenjak                   3\n",
       "Saugmandsgaard Øe, Court of Justice           3\n",
       "Bobek, Court of Justice                       3\n",
       "Mazák, Court of Justice                       2\n",
       "Campos Sánchez-Bordona, Court of Justice      2\n",
       "Tanchev, Court of Justice                     2\n",
       "Court of Justice, Hogan                       1\n",
       "Name: Author, dtype: int64"
      ]
     },
     "execution_count": 146,
     "metadata": {},
     "output_type": "execute_result"
    }
   ],
   "source": [
    "# The details are useless, but we can use the general Court and CST vs domestic referrals\n",
    "df['Author'].value_counts()"
   ]
  },
  {
   "cell_type": "code",
   "execution_count": 147,
   "id": "0dc0dfec-8d03-401d-9bb5-89291dcf80e1",
   "metadata": {},
   "outputs": [],
   "source": [
    "def author_standarizer(a_string):\n",
    "    if a_string == \"General Court\":\n",
    "        return a_string\n",
    "    elif a_string == \"Civil Service Tribunal\":\n",
    "        return a_string\n",
    "    else:\n",
    "        a_string = \"domestic referral\"\n",
    "        return a_string\n",
    "    "
   ]
  },
  {
   "cell_type": "code",
   "execution_count": 148,
   "id": "cd5a9b53-b7d7-409e-aeeb-d8fa9b8c79b6",
   "metadata": {},
   "outputs": [
    {
     "data": {
      "text/plain": [
       "domestic referral         263\n",
       "General Court             216\n",
       "Civil Service Tribunal     31\n",
       "Name: author2, dtype: int64"
      ]
     },
     "execution_count": 148,
     "metadata": {},
     "output_type": "execute_result"
    }
   ],
   "source": [
    "df['author2'] = df.Author.apply(author_standarizer)\n",
    "df.author2.value_counts()"
   ]
  },
  {
   "cell_type": "markdown",
   "id": "d764109e-7752-458c-8f71-8b084ce3e256",
   "metadata": {},
   "source": [
    "----\n",
    "## Approaching the mess on types of procedures"
   ]
  },
  {
   "cell_type": "code",
   "execution_count": 149,
   "id": "80982fff-6206-4c8c-ad59-eed1cc804e51",
   "metadata": {},
   "outputs": [
    {
     "data": {
      "text/plain": [
       "Reference for a preliminary ruling                                                                              131\n",
       "Action for annulment - unfounded                                                                                 62\n",
       "Action for annulment - successful                                                                                21\n",
       "Action for annulment - successful, Action for annulment - unfounded                                              11\n",
       "Action for annulment, Appeal - unfounded                                                                         11\n",
       "                                                                                                               ... \n",
       "Appeal - successful, Action for damages, Staff cases                                                              1\n",
       "Appeal against penalty, Appeal - unfounded, Action for annulment, Appeal - inadmissible                           1\n",
       "Action for damages - unfounded, Action for damages - successful, Action for damages - inadmissible                1\n",
       "Action for annulment, Appeal - inadmissible, Appeal - unfounded, Appeal - successful, Appeal against penalty      1\n",
       "Action for annulment - inadmissible, Action for annulment - successful, Action for annulment - unfounded          1\n",
       "Name: Type of procedure, Length: 145, dtype: int64"
      ]
     },
     "execution_count": 149,
     "metadata": {},
     "output_type": "execute_result"
    }
   ],
   "source": [
    "## as we can see, this is comma separated, so the first thing we want to do is to split into a list\n",
    "df['Type of procedure'].value_counts()\n"
   ]
  },
  {
   "cell_type": "code",
   "execution_count": 150,
   "id": "594fe12a-e3d8-4d1b-83c6-510d0a57cdcb",
   "metadata": {},
   "outputs": [],
   "source": [
    "# since it is a simple function that we will only use once, a lambda looks nice\n",
    "df['Type of procedure'] = df['Type of procedure'].apply(lambda x: x.split(\",\"))"
   ]
  },
  {
   "cell_type": "code",
   "execution_count": 151,
   "id": "0c37bb79-e50e-412e-884a-b46ed72253a5",
   "metadata": {},
   "outputs": [
    {
     "data": {
      "text/plain": [
       "Reference for a preliminary ruling                  137\n",
       "Action for annulment - unfounded                     95\n",
       " Action for annulment - unfounded                    54\n",
       " Appeal - unfounded                                  53\n",
       " Action for annulment                                51\n",
       "                                                   ... \n",
       "Action for failure to act - successful                1\n",
       "Staff cases - decision unnecessary                    1\n",
       " Action for failure to act - inadmissible             1\n",
       "Appeal                                                1\n",
       " Application for measures of inquiry - unfounded      1\n",
       "Name: Type of procedure, Length: 61, dtype: int64"
      ]
     },
     "execution_count": 151,
     "metadata": {},
     "output_type": "execute_result"
    }
   ],
   "source": [
    "df3 = df.explode('Type of procedure')\n",
    "## now we can see what is going on, it is a horrible mess\n",
    "df3['Type of procedure'].value_counts()"
   ]
  },
  {
   "cell_type": "markdown",
   "id": "0eef2270-db74-4fbc-88d5-99a6b2469183",
   "metadata": {},
   "source": [
    ">a strategy here is to focus on the regularities, for example unfounded, succesful etc, here you can follow the logic of the trimming"
   ]
  },
  {
   "cell_type": "code",
   "execution_count": 154,
   "id": "90c4279e-c61c-4fa3-86b1-9e89390380db",
   "metadata": {},
   "outputs": [],
   "source": [
    "def type_standarizer1(a_string):\n",
    "    if \"unfounded\" in a_string:\n",
    "        return \"unfounded\"\n",
    "    elif \"successful\" in a_string:\n",
    "        return \"succesful\"\n",
    "    elif \"inadmissible\" in a_string:\n",
    "        return \"inadmissible\"\n",
    "    else:\n",
    "        return a_string"
   ]
  },
  {
   "cell_type": "code",
   "execution_count": 155,
   "id": "2ba580c6-e70d-4bbd-9627-6bbde96e767a",
   "metadata": {},
   "outputs": [
    {
     "data": {
      "text/plain": [
       "unfounded                                                     323\n",
       "succesful                                                     172\n",
       "Reference for a preliminary ruling                            137\n",
       "inadmissible                                                   94\n",
       " Action for annulment                                          51\n",
       "Action for annulment                                           40\n",
       " Appeal against penalty                                        24\n",
       " Action for damages                                            15\n",
       " Reference for a preliminary ruling                            10\n",
       "Preliminary reference - urgent procedure                       10\n",
       "Appeal against penalty                                          9\n",
       " Reference for a preliminary ruling - decision unnecessary      6\n",
       " Staff cases                                                    6\n",
       "Staff cases                                                     6\n",
       " Appeal                                                         5\n",
       "Judgment delivered after back reference                         5\n",
       "Action for damages                                              5\n",
       " Action for annulment - decision unnecessary                    4\n",
       "Reference for a preliminary ruling - decision unnecessary       3\n",
       " Judgment delivered after back reference                        2\n",
       "Staff cases - decision unnecessary                              1\n",
       "Arbitration clause                                              1\n",
       "Appeal                                                          1\n",
       "Action for annulment - decision unnecessary                     1\n",
       "Name: outcome1, dtype: int64"
      ]
     },
     "execution_count": 155,
     "metadata": {},
     "output_type": "execute_result"
    }
   ],
   "source": [
    "df3['outcome1'] = df3['Type of procedure'].apply(type_standarizer1)\n",
    "df3.outcome1.value_counts()"
   ]
  },
  {
   "cell_type": "markdown",
   "id": "bf582e8b-a8b7-489f-992d-3ee3fc121c5a",
   "metadata": {},
   "source": [
    "> so lets keep trimming..."
   ]
  },
  {
   "cell_type": "code",
   "execution_count": 156,
   "id": "83fc4e33-55ba-46d8-9e28-3cd54e69316b",
   "metadata": {},
   "outputs": [],
   "source": [
    "def type_standarizer2(a_string):\n",
    "    if \"unfounded\" in a_string:\n",
    "        return \"unfounded\"\n",
    "    elif \"successful\" in a_string:\n",
    "        return \"succesful\"\n",
    "    elif \"inadmissible\" in a_string:\n",
    "        return \"inadmissible\"\n",
    "    elif \"unnecessary\" in a_string:\n",
    "        return \"unnecessary\"\n",
    "    elif \"Staff cases\" in a_string:\n",
    "        return \"staff cases\"\n",
    "    elif \"Action for annulment\" in a_string:\n",
    "        return \"action for annulment\"\n",
    "    elif \"Action for damages\" in a_string:\n",
    "        return \"action for damages\"\n",
    "    else:\n",
    "        return a_string    \n",
    "    "
   ]
  },
  {
   "cell_type": "code",
   "execution_count": 157,
   "id": "c37186e2-b042-4941-af46-81688d76f119",
   "metadata": {},
   "outputs": [
    {
     "data": {
      "text/plain": [
       "unfounded                                   323\n",
       "succesful                                   172\n",
       "Reference for a preliminary ruling          137\n",
       "inadmissible                                 94\n",
       "action for annulment                         91\n",
       " Appeal against penalty                      24\n",
       "action for damages                           20\n",
       "unnecessary                                  15\n",
       "staff cases                                  12\n",
       "Preliminary reference - urgent procedure     10\n",
       " Reference for a preliminary ruling          10\n",
       "Appeal against penalty                        9\n",
       "Judgment delivered after back reference       5\n",
       " Appeal                                       5\n",
       " Judgment delivered after back reference      2\n",
       "Appeal                                        1\n",
       "Arbitration clause                            1\n",
       "Name: outcome2, dtype: int64"
      ]
     },
     "execution_count": 157,
     "metadata": {},
     "output_type": "execute_result"
    }
   ],
   "source": [
    "df3['outcome2'] = df3['Type of procedure'].apply(type_standarizer2)\n",
    "df3.outcome2.value_counts()"
   ]
  },
  {
   "cell_type": "markdown",
   "id": "a95c1e79-5736-4e17-b5e2-9fe78a7016b4",
   "metadata": {},
   "source": [
    "> We might want to drop what we dont need\n",
    "\n",
    "\n",
    "> we will need an opposite operation to explode to re-collapse outcome2 into a list, looks tricky https://stackoverflow.com/questions/64235312/how-to-implodereverse-of-pandas-explode-based-on-a-column"
   ]
  },
  {
   "cell_type": "code",
   "execution_count": null,
   "id": "3bd7300d-f0b5-40aa-9c65-c6c8da193d0f",
   "metadata": {},
   "outputs": [],
   "source": []
  }
 ],
 "metadata": {
  "kernelspec": {
   "display_name": "Python 3 (ipykernel)",
   "language": "python",
   "name": "python3"
  },
  "language_info": {
   "codemirror_mode": {
    "name": "ipython",
    "version": 3
   },
   "file_extension": ".py",
   "mimetype": "text/x-python",
   "name": "python",
   "nbconvert_exporter": "python",
   "pygments_lexer": "ipython3",
   "version": "3.9.6"
  }
 },
 "nbformat": 4,
 "nbformat_minor": 5
}
